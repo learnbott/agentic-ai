{
 "cells": [
  {
   "cell_type": "markdown",
   "metadata": {},
   "source": [
    "## FSI multiple agent use case\n",
    "FSI needs to do a lot of research with each newly introduced bill that affects their industry of interest. \n",
    "\n",
    "## Data maturity\n",
    "There are some sources of structured data collection (not necessarily structured data). They have databases they search, but a lot of their research comes from human and internet research. \n",
    "* CRM tool\n",
    "* Emails and messaging data\n",
    "* Past initiatives\n",
    "* Sponsor research\n",
    "* Opposition research\n",
    "* Research into other similar bills \n",
    "* many others \n",
    "\n",
    "It might be helpful to reduce the search space for each of these information sources. For example, if there is a database or resource for proposed bills, only search there for similar bills instead of the entire internet.\n",
    "\n",
    "## Possible Tools\n",
    "EntityExtractionTool - only extracts names\n",
    "DirectoryReadTool - finds all files in a directory\n",
    "FileReadTool - reads files in directory\n",
    "SerperDevTool - web scrapping \n",
    "SummarizationTool - especially for large documents\n",
    "RAGTool - to make collected data searchable \n",
    "\n",
    "\n"
   ]
  },
  {
   "cell_type": "code",
   "execution_count": null,
   "metadata": {},
   "outputs": [],
   "source": []
  },
  {
   "cell_type": "code",
   "execution_count": null,
   "metadata": {},
   "outputs": [],
   "source": []
  }
 ],
 "metadata": {
  "language_info": {
   "name": "python"
  }
 },
 "nbformat": 4,
 "nbformat_minor": 2
}
