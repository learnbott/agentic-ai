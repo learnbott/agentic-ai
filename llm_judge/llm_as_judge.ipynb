{
 "cells": [
  {
   "cell_type": "code",
   "execution_count": null,
   "metadata": {},
   "outputs": [],
   "source": []
  },
  {
   "cell_type": "code",
   "execution_count": null,
   "metadata": {},
   "outputs": [],
   "source": [
    "\"\"\"\n",
    "Criterion 1 (No boilerplate/irrelevant info): [SCORE] - [BRIEF JUSTIFICATION]\n",
    "Criterion 2 (Objective voice): [SCORE] - [BRIEF JUSTIFICATION]\n",
    "Criterion 3 (Alternative approaches): [SCORE] - [BRIEF JUSTIFICATION]\n",
    "Criterion 4 (Markdown formatting): [SCORE] - [BRIEF JUSTIFICATION]\n",
    "Criterion 5 (Precise numbers): [SCORE] - [BRIEF JUSTIFICATION]\n",
    "\n",
    "Overall Score: [AVERAGE OF ALL SCORES]\n",
    "\"\"\""
   ]
  },
  {
   "cell_type": "code",
   "execution_count": null,
   "metadata": {},
   "outputs": [],
   "source": [
    "rubric = (\n",
    "    \"1. No boilerplate, non-factual information, or irrelevant information is included.\\n\"\n",
    "    \"2. The voice of the summary is objective and neutral.\\n\"\n",
    "    \"3. Alternative approaches are discussed.\\n\"\n",
    "    \"4. Markdown formatting is removed.\\n\"\n",
    "    \"5. Precise numbers are used and not rounded or approximated.\\n\"\n",
    ")\n",
    "\n",
    "judge_prompt = f\"\"\"\n",
    "You are an objective evaluator tasked with assessing summaries based on the following rubric:\n",
    "\n",
    "{rubric}\n",
    "\n",
    "For each criterion, rate the summary on a scale from 1-5 where:\n",
    "1 = Does not meet the criterion at all\n",
    "3 = Partially meets the criterion\n",
    "5 = Fully meets the criterion\n",
    "\n",
    "Provide your evaluation in the following format:\n",
    "\n",
    "Criterion 1 (No boilerplate/irrelevant info): [SCORE]\n",
    "Criterion 2 (Objective voice): [SCORE]\n",
    "Criterion 3 (Alternative approaches): [SCORE]\n",
    "Criterion 4 (Markdown formatting): [SCORE]\n",
    "Criterion 5 (Precise numbers): [SCORE]\n",
    "\n",
    "Overall Score: [AVERAGE OF ALL SCORES]\n",
    "\"\"\""
   ]
  },
  {
   "cell_type": "code",
   "execution_count": null,
   "metadata": {},
   "outputs": [],
   "source": [
    "from llama_index.llms.openai_like import OpenAILike\n",
    "\n",
    "vllm_model = \"Valdemardi/DeepSeek-R1-Distill-Qwen-32B-AWQ\"\n",
    "\n",
    "llm_judge = OpenAILike(\n",
    "                        model=vllm_model,\n",
    "                        temperature=0.1,\n",
    "                        system_prompt=system_prompt,\n",
    "                        api_base=\"http://0.0.0.0:8008/v1\",\n",
    "                        api_key=\"fake\",\n",
    "                        is_chat_model=True,\n",
    "                        is_function_calling_model=True,\n",
    "                        context_window=5000,\n",
    "                        timeout=4000.0\n",
    "                    )"
   ]
  },
  {
   "cell_type": "code",
   "execution_count": null,
   "metadata": {},
   "outputs": [],
   "source": []
  },
  {
   "cell_type": "code",
   "execution_count": null,
   "metadata": {},
   "outputs": [],
   "source": []
  },
  {
   "cell_type": "code",
   "execution_count": null,
   "metadata": {},
   "outputs": [],
   "source": []
  },
  {
   "cell_type": "code",
   "execution_count": null,
   "metadata": {},
   "outputs": [],
   "source": []
  },
  {
   "cell_type": "code",
   "execution_count": null,
   "metadata": {},
   "outputs": [],
   "source": []
  },
  {
   "cell_type": "code",
   "execution_count": null,
   "metadata": {},
   "outputs": [],
   "source": []
  },
  {
   "cell_type": "code",
   "execution_count": null,
   "metadata": {},
   "outputs": [],
   "source": []
  },
  {
   "cell_type": "code",
   "execution_count": null,
   "metadata": {},
   "outputs": [],
   "source": []
  },
  {
   "cell_type": "code",
   "execution_count": null,
   "metadata": {},
   "outputs": [],
   "source": []
  },
  {
   "cell_type": "code",
   "execution_count": null,
   "metadata": {},
   "outputs": [],
   "source": []
  }
 ],
 "metadata": {
  "kernelspec": {
   "display_name": "Python 3",
   "language": "python",
   "name": "python3"
  },
  "language_info": {
   "codemirror_mode": {
    "name": "ipython",
    "version": 3
   },
   "file_extension": ".py",
   "mimetype": "text/x-python",
   "name": "python",
   "nbconvert_exporter": "python",
   "pygments_lexer": "ipython3",
   "version": "3.11.10"
  }
 },
 "nbformat": 4,
 "nbformat_minor": 2
}
