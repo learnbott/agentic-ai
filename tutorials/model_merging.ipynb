{
 "cells": [
  {
   "cell_type": "code",
   "execution_count": null,
   "metadata": {},
   "outputs": [],
   "source": [
    "!pip3 install autoawq"
   ]
  },
  {
   "cell_type": "code",
   "execution_count": null,
   "metadata": {},
   "outputs": [],
   "source": [
    "!cd /workspace/repos && git clone https://github.com/arcee-ai/mergekit.git && cd mergekit && pip install -e ."
   ]
  },
  {
   "cell_type": "code",
   "execution_count": null,
   "metadata": {},
   "outputs": [],
   "source": []
  },
  {
   "cell_type": "code",
   "execution_count": null,
   "metadata": {},
   "outputs": [],
   "source": [
    "from transformers import AutoTokenizer, AutoModelForCausalLM\n",
    "model_a_name = \"Qwen/QwQ-32B\"\n",
    "model_b_name = \"deepseek-ai/DeepSeek-R1-Distill-Qwen-32B\"\n",
    "model_a = AutoModelForCausalLM.from_pretrained(model_a_name)\n",
    "model_b = AutoModelForCausalLM.from_pretrained(model_b_name)\n",
    "tokenizer_a = AutoTokenizer.from_pretrained(model_a_name)\n",
    "tokenizer_b = AutoTokenizer.from_pretrained(model_b_name)\n"
   ]
  },
  {
   "cell_type": "code",
   "execution_count": null,
   "metadata": {},
   "outputs": [],
   "source": [
    "!mergekit-yaml /workspace/repos/agentic-ai/tutorials/merge_models.yml /workspace/models"
   ]
  },
  {
   "cell_type": "code",
   "execution_count": null,
   "metadata": {},
   "outputs": [],
   "source": [
    "from awq import AutoAWQForCausalLM\n",
    "\n",
    "model = AutoAWQForCausalLM.from_pretrained(\n",
    "    model_path, **{\"low_cpu_mem_usage\": True, \"use_cache\": False}\n",
    ")\n",
    "\n",
    "quant_config={\n",
    "  \"zero_point\": True,\n",
    "  \"q_group_size\": 128,\n",
    "  \"w_bit\": 4,\n",
    "  \"version\": \"GEMM\"\n",
    "}"
   ]
  },
  {
   "cell_type": "code",
   "execution_count": null,
   "metadata": {},
   "outputs": [],
   "source": [
    "!echo $HF_HOME"
   ]
  },
  {
   "cell_type": "code",
   "execution_count": null,
   "metadata": {},
   "outputs": [],
   "source": []
  },
  {
   "cell_type": "code",
   "execution_count": null,
   "metadata": {},
   "outputs": [],
   "source": []
  },
  {
   "cell_type": "code",
   "execution_count": null,
   "metadata": {},
   "outputs": [],
   "source": []
  }
 ],
 "metadata": {
  "kernelspec": {
   "display_name": "Python 3",
   "language": "python",
   "name": "python3"
  },
  "language_info": {
   "codemirror_mode": {
    "name": "ipython",
    "version": 3
   },
   "file_extension": ".py",
   "mimetype": "text/x-python",
   "name": "python",
   "nbconvert_exporter": "python",
   "pygments_lexer": "ipython3",
   "version": "3.11.10"
  }
 },
 "nbformat": 4,
 "nbformat_minor": 2
}
