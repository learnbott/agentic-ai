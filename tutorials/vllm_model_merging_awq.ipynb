{
 "cells": [
  {
   "cell_type": "code",
   "execution_count": null,
   "metadata": {},
   "outputs": [],
   "source": [
    "!pip3 install vllm\n",
    "!pip3 install autoawq\n",
    "!cd /workspace/repos && git clone https://github.com/arcee-ai/mergekit.git && cd mergekit && pip install -e ."
   ]
  },
  {
   "cell_type": "code",
   "execution_count": null,
   "metadata": {},
   "outputs": [],
   "source": [
    "# In a different terminal screen, run the vllm server\n",
    "\n",
    "# vllm serve \"Valdemardi/DeepSeek-R1-Distill-Qwen-32B-AWQ\" \\\n",
    "# --enforce-eager \\\n",
    "# --max_model_len 32000 \\\n",
    "# --gpu-memory-utilization 0.7 \\\n",
    "# --port 8008 \\\n",
    "# --host 0.0.0.0\n",
    "\n",
    "# Use with LlamaIndex wrapper\n",
    "    \n",
    "# from llama_index.llms.openai_like import OpenAILike\n",
    "# llm = OpenAILike(\n",
    "#             model=\"Valdemardi/DeepSeek-R1-Distill-Qwen-32B-AWQ\",\n",
    "#             temperature=0.6,\n",
    "#             system_prompt=None,\n",
    "#             api_base=\"http://0.0.0.0:8008/v1\",\n",
    "#             api_key=\"fake\",\n",
    "#             is_chat_model=True,\n",
    "#             is_function_calling_model=True,\n",
    "#             context_window=10000,\n",
    "#             timeout=4000.0\n",
    "#         )\n",
    "# response = llm.complete(\"What is the meaning of life?\")\n",
    "# print(response.text)\n",
    "\n",
    "# To use natively see https://docs.vllm.ai/en/latest/index.html"
   ]
  },
  {
   "cell_type": "code",
   "execution_count": null,
   "metadata": {},
   "outputs": [],
   "source": [
    "# choose models to merge. \n",
    "# (Be sure you have enough system memory to hold all models in memory)\n",
    "\n",
    "import gc\n",
    "from transformers import AutoTokenizer, AutoModelForCausalLM\n",
    "\n",
    "model_a_name = \"Qwen/QwQ-32B\"\n",
    "model_b_name = \"deepseek-ai/DeepSeek-R1-Distill-Qwen-32B\"\n",
    "\n",
    "model_a = AutoModelForCausalLM.from_pretrained(model_a_name)\n",
    "tokenizer_a = AutoTokenizer.from_pretrained(model_a_name)\n",
    "del model_a, tokenizer_a\n",
    "gc.collect()\n",
    "\n",
    "model_b = AutoModelForCausalLM.from_pretrained(model_b_name)\n",
    "tokenizer_b = AutoTokenizer.from_pretrained(model_b_name)\n",
    "del model_b, tokenizer_b\n",
    "gc.collect()\n"
   ]
  },
  {
   "cell_type": "code",
   "execution_count": null,
   "metadata": {},
   "outputs": [],
   "source": [
    "# Example yaml file\n",
    "# For more examples see https://github.com/arcee-ai/mergekit\n",
    "\n",
    "# models:\n",
    "#   - model: Qwen/QwQ-32B\n",
    "#     parameters:\n",
    "#       weight: 0.5\n",
    "#   - model: deepseek-ai/DeepSeek-R1-Distill-Qwen-32B\n",
    "#     parameters:\n",
    "#       weight: 0.5\n",
    "# base_model: Qwen/QwQ-32B\n",
    "# merge_method: dare_ties\n",
    "# dtype: bfloat16"
   ]
  },
  {
   "cell_type": "code",
   "execution_count": null,
   "metadata": {},
   "outputs": [],
   "source": [
    "# Merge models\n",
    "!mergekit-yaml /workspace/repos/agentic-ai/tutorials/merge_models.yml /workspace/model_merged_daretie"
   ]
  },
  {
   "cell_type": "code",
   "execution_count": null,
   "metadata": {},
   "outputs": [],
   "source": [
    "# Quantize model\n",
    "\n",
    "from awq import AutoAWQForCausalLM\n",
    "\n",
    "model_path = \"/workspace/model_merged_daretie\"\n",
    "model = AutoAWQForCausalLM.from_pretrained(\n",
    "    model_path, **{\"low_cpu_mem_usage\": True, \"use_cache\": False}\n",
    ")\n",
    "\n",
    "quant_config={\n",
    "  \"zero_point\": True,\n",
    "  \"q_group_size\": 128,\n",
    "  \"w_bit\": 4,\n",
    "  \"version\": \"GEMM\"\n",
    "}"
   ]
  },
  {
   "cell_type": "code",
   "execution_count": null,
   "metadata": {},
   "outputs": [],
   "source": []
  }
 ],
 "metadata": {
  "kernelspec": {
   "display_name": "Python 3",
   "language": "python",
   "name": "python3"
  },
  "language_info": {
   "codemirror_mode": {
    "name": "ipython",
    "version": 3
   },
   "file_extension": ".py",
   "mimetype": "text/x-python",
   "name": "python",
   "nbconvert_exporter": "python",
   "pygments_lexer": "ipython3",
   "version": "3.11.10"
  }
 },
 "nbformat": 4,
 "nbformat_minor": 2
}
