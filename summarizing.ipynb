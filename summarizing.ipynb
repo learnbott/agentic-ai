{
 "cells": [
  {
   "cell_type": "code",
   "execution_count": null,
   "metadata": {},
   "outputs": [],
   "source": [
    "!apt-get update && apt-get install ffmpeg -y\n",
    "!apt install tmux vim -y\n",
    "!pip3 install moviepy openai python-dotenv pydub pytubefix openai-whisper llama-index llama-index-llms-openai llama-index-llms-ollama llama-index-embeddings-ollama \n",
    "!pip3 install flash-attn --no-build-isolation\n",
    "!curl -fsSL https://ollama.com/install.sh | sh\n",
    "\n",
    "# !chmod +x /usr/bin/ollama\n",
    "# !useradd -r -s /bin/false -m -d /usr/share/ollama ollama\n",
    "# !pip3 install openpyxl sentencepiece protobuf evaluate rouge_score absl-py tensorboardX bitsandbytes peft accelerate python-dotenv dspy-ai graspologic\n"
   ]
  },
  {
   "cell_type": "code",
   "execution_count": null,
   "metadata": {},
   "outputs": [],
   "source": [
    "import os, pickle, gc, subprocess\n",
    "from dotenv import load_dotenv\n",
    "from video_transcription import split_audio_into_chunks, video_to_audio, transcribe_audio_chunks, get_transcription_model, download_video\n",
    "from llama_index.core import Document\n",
    "# import torch\n",
    "\n",
    "load_dotenv(\"/workspace/repos/agentic-ai/.env\")\n",
    "OPENAI_API_KEY = os.getenv(\"OPENAI_API_KEY\")\n",
    "os.environ[\"OPENAI_API_KEY\"] = OPENAI_API_KEY\n",
    "\n",
    "video_path=\"/workspace/data/video1512218125.mp4\"\n",
    "# video_path=\"https://www.youtube.com/watch?v=Z07Ewop7rQA\"\n",
    "audio_output_path=\"/workspace/data/video_audio.mp3\"\n",
    "transcribe_output_dir=\"/workspace/data\"\n",
    "file_save_path=\"/workspace/data/transcription.pkl\""
   ]
  },
  {
   "cell_type": "code",
   "execution_count": null,
   "metadata": {},
   "outputs": [],
   "source": [
    "if not os.path.exists(file_save_path):\n",
    "    transcribe_model = get_transcription_model(open_source_model=True)\n",
    "\n",
    "    print(\"Processing video...\")\n",
    "    if 'youtube' in video_path:\n",
    "        print(\"   Downloading video from youtube...\")\n",
    "        download_video(video_url=video_path, audio_output_path=audio_output_path)\n",
    "    else:\n",
    "        video_to_audio(video_path=video_path, audio_output_path=audio_output_path)\n",
    "\n",
    "    print(\"Splitting audio into chunks...\")\n",
    "    split_audio_into_chunks(audio_output_path=audio_output_path, transcribe_output_dir=transcribe_output_dir, max_chunk_size_mb=24)\n",
    "\n",
    "    print(\"Transcribing audio chunks...\")\n",
    "    transcription = transcribe_audio_chunks(model=transcribe_model, chunk_dir=\"/workspace/data\", file_save_path=file_save_path)\n",
    "\n",
    "    del transcribe_model\n",
    "    # torch.cuda.empty_cache()\n",
    "    gc.collect()\n",
    "else:\n",
    "    with open(file_save_path, 'rb') as f:\n",
    "        documents = pickle.load(f)\n",
    "    \n",
    "\n",
    "    if isinstance(documents[0], dict):\n",
    "        documents = [Document(text=chunk[\"text\"]) for chunk in documents]\n",
    "\n",
    "    full_doc = \" \".join([doc.text for doc in documents])\n",
    "    "
   ]
  },
  {
   "cell_type": "code",
   "execution_count": null,
   "metadata": {},
   "outputs": [],
   "source": [
    "from llama_index.core import Settings\n",
    "from llama_index.llms.ollama import Ollama\n",
    "from llama_index.llms.openai import OpenAI as LOpenAI\n",
    "\n",
    "# model_name, ctx_len = \"gpt-4o\", 128000\n",
    "model_name, ctx_len = \"llama3.1:latest\", 128000\n",
    "\n",
    "if model_name == \"gpt-4o\":\n",
    "    llm = LOpenAI(model=model_name, max_tokens=4000)\n",
    "else:\n",
    "    try: sub_out = subprocess.run(['ollama', 'pull', model_name], capture_output=True, text=True)\n",
    "    except Exception as e: print(f\"Error pulling model: Is the Ollama server running?\\n{e}\")\n",
    "    addtion_kwargs = {\"max_new_tokens\": 2000}\n",
    "    system_prompt = \"You are an expert at answering questions about rules and regulations regarding Title 17—Commodity and Securities Exchanges: CHAPTER II—SECURITIES AND EXCHANGE COMMISSION. Please provide a summary of the following text, and cite any sections, rules, acts or laws (e.g. § 230.503, § 240.13a-15, Act (15 U.S.C. 781), Investment Company Act of 1940) from context that support the answer. Be detailed in your response.\"\n",
    "    llm = Ollama(model=model_name, url=\"http://127.0.0.1:11434\", context_window=ctx_len, model_type=\"chat\", is_function_calling_model=False, \n",
    "                request_timeout=1000.0, system_prompt=system_prompt, additional_kwargs=addtion_kwargs)\n",
    "    print(llm.metadata)\n",
    "\n",
    "Settings.llm = llm"
   ]
  },
  {
   "cell_type": "markdown",
   "metadata": {},
   "source": [
    "## Tree summarizer"
   ]
  },
  {
   "cell_type": "code",
   "execution_count": null,
   "metadata": {},
   "outputs": [],
   "source": [
    "from llama_index.core.response_synthesizers import TreeSummarize\n",
    "summarizer = TreeSummarize(llm=llm, verbose=True)\n",
    "# prompt_summary = \"You are a professional executive of AlphaTrAI. Your job is to summarize this text in great detail from a video transcription. The summary will be distributed to investors and stakeholders, so give a lot of details and examples from the transcription.\"\n",
    "prompt_summary = f\"\"\"You are a professional executive at AlphaTrAI. Your job is to summarize the text from a video transcription. The summary will be a memo distributed to investors and stakeholders. Be sure it the memo has the following items:\n",
    "1. Extract all the names of new hires and their position, and/or new advisors mentioned in the transcription.\n",
    "2. Create a section to mention the personnel new to AlphaTrAI.\n",
    "3. Include other highlights and progress made by AlphaTrAI.\n",
    "4. Ensure the memo and ensure it is factual, optimistic, and any values mention come directly from the text. \n",
    "\n",
    "The transcription is as follows:\\n{full_doc}\"\"\"\n",
    "\n",
    "response = await summarizer.aget_response(prompt_summary, [doc.text for doc in documents])"
   ]
  },
  {
   "cell_type": "code",
   "execution_count": null,
   "metadata": {},
   "outputs": [],
   "source": [
    "print(response)"
   ]
  },
  {
   "cell_type": "markdown",
   "metadata": {},
   "source": [
    "## LLM direct summarization"
   ]
  },
  {
   "cell_type": "code",
   "execution_count": null,
   "metadata": {},
   "outputs": [],
   "source": [
    "prompt_summary = f\"\"\"You are a professional executive at AlphaTrAI. Your job is to summarize the text from a video transcription. The summary will be a memo distributed to investors and stakeholders. Be sure it the memo has the following items:\n",
    "1. Extract all the names of new hires and their position, and/or new advisors mentioned in the transcription.\n",
    "2. Include other highlights and progress made by AlphaTrAI.\n",
    "3. Ensure the memo is professional, fluid, factual, and optimistic. \n",
    "\n",
    "The transcription is as follows:\\n{full_doc}\"\"\"\n",
    "\n",
    "response = llm.complete(prompt_summary, max_tokens=5000)"
   ]
  },
  {
   "cell_type": "code",
   "execution_count": null,
   "metadata": {},
   "outputs": [],
   "source": [
    "print(response.text)"
   ]
  },
  {
   "cell_type": "code",
   "execution_count": null,
   "metadata": {},
   "outputs": [],
   "source": [
    "**AlphaTrAI Executive Memo**\n",
    "\n",
    "**To:** Investors and Stakeholders\n",
    "\n",
    "**From:** [Your Name], Executive at AlphaTrAI\n",
    "\n",
    "**Subject:** Corporate Update, New Hires, and Key Progressions\n",
    "\n",
    "As we continue to navigate the ever-evolving landscape of tech-enabled services, I am pleased to share with you our recent updates and key progressions.\n",
    "\n",
    "**New Hires and Advisors:**\n",
    "\n",
    "* **Anjan Jo**: An incredibly talented individual who has joined our advisory committee. She brings a wealth of knowledge and experience, and we are grateful for her continued involvement.\n",
    "* **Rob Marsh**: A seasoned technology expert who has joined the firm as a member of the executive committee. He brings a deep understanding of tech-enabled services and will play a critical role in shaping our business strategy.\n",
    "* **Matt Higgins**: Our new chief compliance officer, who will be instrumental in ensuring the responsible application of AI across our clients' businesses.\n",
    "\n",
    "**New Personnel:**\n",
    "\n",
    "* **Sammy Tarazi**: Our first official CTO, who has brought extraordinary value to the firm with his technical expertise and ability to communicate effectively.\n",
    "* **John Sweeney**: A highly experienced business professional who has joined us as a key member of our team. He brings a deep understanding of the wealth management industry and will play a critical role in shaping our business strategy.\n",
    "\n",
    "**Other Highlights:**\n",
    "\n",
    "* We have made significant progress in consolidating our proprietary asset management business, which has allowed us to focus on delivering consultative services to our clients.\n",
    "* Our pipeline is strong, with multiple SOWs (Statements of Work) already in process. Notably, we are working closely with the Financial Services Institute to explore opportunities for AI adoption and leadership.\n",
    "* We have established a robust advisory committee, featuring industry legends such as Lonnie Steffens, Kathy Saunders, and Larry Anderson. This will enable us to leverage their expertise and stay ahead of the curve in terms of market trends.\n",
    "\n",
    "**Progressions:**\n",
    "\n",
    "* Our sales team has achieved remarkable success with Rocco's business, generating over $18 million in revenue. We expect this growth to continue as we integrate Anchor Advisory Services into our platform.\n",
    "* Our tech-enabled services have seen significant traction, with multiple clients expressing interest in leveraging our capabilities. This includes Stacks Capital, which is integrating Kaya (our AI-powered due diligence tool) into their business processes.\n",
    "\n",
    "**Conclusion:**\n",
    "\n",
    "We are excited about the progress we've made and the opportunities that lie ahead. We believe that our focus on tech-enabled services will enable us to deliver greater value to our clients and drive growth for the firm.\n",
    "\n",
    "Please feel free to reach out with any questions or concerns."
   ]
  },
  {
   "cell_type": "code",
   "execution_count": null,
   "metadata": {},
   "outputs": [],
   "source": [
    "**MEMORANDUM**\n",
    "\n",
    "**TO:** Investors and Stakeholders\n",
    "\n",
    "**FROM:** AlphaTrAI Executive Team\n",
    "\n",
    "**SUBJECT:** Corporate Update and Highlights\n",
    "\n",
    "As we continue to navigate the rapidly evolving landscape of tech-enabled services, I am pleased to provide a comprehensive update on our company's progress and highlight key achievements.\n",
    "\n",
    "**New to AlphaTrAI?**\n",
    "\n",
    "Welcome! If you are new to our community, we encourage you to explore our platform and learn more about our mission to revolutionize the way businesses operate. Our team is committed to transparency and communication, and we invite you to join us on this exciting journey.\n",
    "\n",
    "**Key Personnel**\n",
    "\n",
    "We would like to take a moment to acknowledge and appreciate the contributions of our talented team members:\n",
    "\n",
    "* **Bill**: Executive at AlphaTrAI\n",
    "* **Steve Rocco**: Founder and CEO of Anchor Advisory Services (recently acquired by AlphaTrAI)\n",
    "* **Sammy Tarazi**: Chief Technology Officer (CTO) at AlphaTrAI\n",
    "* **John Sweeney**: Member of the Executive Committee at AlphaTrAI\n",
    "* **Rob Marsh**: Member of the Executive Committee at AlphaTrAI and former CEO of Kensho\n",
    "* **Matt Higgins**: Compliance Officer at AlphaTrAI\n",
    "\n",
    "**Highlights and Progress**\n",
    "\n",
    "We are proud to announce significant milestones in our journey:\n",
    "\n",
    "* Acquisition of Anchor Advisory Services, expanding our capabilities in sales and distribution services.\n",
    "* Appointment of key personnel, including Steve Rocco as CEO of Anchor Advisory Services and Sammy Tarazi as CTO of AlphaTrAI.\n",
    "* Development of Kaya, a groundbreaking AI-powered due diligence platform for private investments.\n",
    "* Expansion of our advisory committee with industry legends, including Lonnie Steffens and Kathy Saunders.\n",
    "\n",
    "**Other Notable Achievements**\n",
    "\n",
    "We have made substantial progress in various areas:\n",
    "\n",
    "* Consolidation of our proprietary asset management business to focus on tech-enabled services.\n",
    "* Establishment of a strong pipeline and successful delivery of sales and distribution services through Anchor Advisory Services.\n",
    "* Development of customized SaaS deliverables, enabling us to differentiate ourselves from traditional software-as-a-service providers.\n",
    "\n",
    "**Conclusion**\n",
    "\n",
    "We are thrilled with the progress we have made and look forward to continuing our journey towards innovation and excellence. We invite you to join us on this exciting path, as we strive to revolutionize the way businesses operate through the application of technology and expertise.\n",
    "...\n",
    "\n",
    "Best regards,\n",
    "[Your Name]\n",
    "AlphaTrAI Executive Team\n",
    "Output is truncated. View as a scrollable element or open in a text editor. Adjust cell output settings..."
   ]
  },
  {
   "cell_type": "code",
   "execution_count": null,
   "metadata": {},
   "outputs": [],
   "source": [
    "'3200' in full_doc"
   ]
  },
  {
   "cell_type": "code",
   "execution_count": null,
   "metadata": {},
   "outputs": [],
   "source": []
  },
  {
   "cell_type": "code",
   "execution_count": null,
   "metadata": {},
   "outputs": [],
   "source": [
    "print(full_doc)"
   ]
  },
  {
   "cell_type": "code",
   "execution_count": null,
   "metadata": {},
   "outputs": [],
   "source": [
    "**MEMORANDUM**\n",
    "\n",
    "**TO:** Investors and Stakeholders\n",
    "\n",
    "**FROM:** [Your Name], Executive at AlphaTrAI\n",
    "\n",
    "**SUBJECT:** Corporate Update and Exciting Developments\n",
    "\n",
    "We are pleased to provide a summary of our recent video transcription, highlighting key updates and developments within the company.\n",
    "\n",
    "**Corporate Update:**\n",
    "The past 24-36 months have been challenging for tech startups, with over 3,200 closures and a loss of $27 billion in startup capital. Despite this backdrop, we have navigated these difficulties to emerge stronger and more confident in our future prospects. Our pivot to tech-enabled services has been a major success, leveraging our expertise in wealth and asset management to provide consultative services and customized products for clients.\n",
    "\n",
    "**Key Developments:**\n",
    "\n",
    "1. **Steve Rocco's Business:** Anchor Advisory Services has joined the AlphaTrAI team, bringing a wealth of experience in sales and distribution. With their expertise, we can now offer more comprehensive solutions to our clients.\n",
    "2. **Rob Marsh's Addition:** Rob has joined our executive committee, bringing his technology background and PM expertise to further enhance our capabilities.\n",
    "3. **Matt Higgins' Compliance Role:** Matt has taken on the role of Chief Compliance Officer, ensuring that our customers receive the highest level of support in responsible AI application.\n",
    "4. **Kaya, the Capital Artificial Intelligence Analyst:** Our team has developed an agent-based solution, leveraging large language models and retrieval augmented generations to automate due diligence for private real estate deals. This innovation has reduced processing times from 10 days to just three days.\n",
    "\n",
    "**Growth and Expansion:**\n",
    "\n",
    "We are excited about our growth prospects, with a strong pipeline and plans to expand our advisory committee with industry legends like Lonnie Steffens and Kathy Saunders. Our branding efforts will ensure that we effectively communicate the value of our tech-enabled services to the market.\n",
    "\n",
    "**Conclusion:**\n",
    "We believe that these developments demonstrate our commitment to innovation and customer satisfaction. We invite you to join us on this exciting journey, as we continue to push the boundaries of what is possible in the world of AI and asset management. Thank you for your continued support!"
   ]
  },
  {
   "cell_type": "code",
   "execution_count": null,
   "metadata": {},
   "outputs": [],
   "source": []
  },
  {
   "cell_type": "code",
   "execution_count": null,
   "metadata": {},
   "outputs": [],
   "source": []
  },
  {
   "cell_type": "code",
   "execution_count": null,
   "metadata": {},
   "outputs": [],
   "source": []
  },
  {
   "cell_type": "code",
   "execution_count": null,
   "metadata": {},
   "outputs": [],
   "source": []
  },
  {
   "cell_type": "code",
   "execution_count": null,
   "metadata": {},
   "outputs": [],
   "source": []
  },
  {
   "cell_type": "code",
   "execution_count": null,
   "metadata": {},
   "outputs": [],
   "source": []
  },
  {
   "cell_type": "code",
   "execution_count": null,
   "metadata": {},
   "outputs": [],
   "source": [
    "!cp '/workspace/repos/agentic-ai/PPM - MCG MADISON RIDGE DST.pdf' /workspace/data\n",
    "!cp '/workspace/repos/agentic-ai/MASTER - PYTHON - SCORING MODEL - MCG MADISON RIDGE DST - v2.0.xlsx' /workspace/data\n",
    "!apt update\n",
    "!apt install tmux vim -y\n",
    "!pip3 install llama-index llama-parse llama-index-embeddings-huggingface llama-index-llms-ollama\n",
    "!pip3 install openpyxl sentencepiece protobuf evaluate rouge_score absl-py tensorboardX bitsandbytes peft accelerate python-dotenv graspologic\n",
    "!pip3 install flash-attn --no-build-isolation\n",
    "!curl -fsSL https://ollama.com/download/ollama-linux-amd64.tgz | tar zx -C /usr\n"
   ]
  },
  {
   "cell_type": "markdown",
   "metadata": {},
   "source": [
    "!ollama pull llama3.1:latest"
   ]
  },
  {
   "cell_type": "code",
   "execution_count": null,
   "metadata": {},
   "outputs": [],
   "source": [
    "\n",
    "import json\n",
    "import os\n",
    "from dotenv import load_dotenv\n",
    "from llama_index.llms.ollama import Ollama\n",
    "\n",
    "from llama_index.embeddings.huggingface import HuggingFaceEmbedding\n",
    "from llama_index.core import (\n",
    "    Settings,\n",
    ")\n",
    "\n",
    "import nest_asyncio\n",
    "nest_asyncio.apply()\n",
    "\n",
    "load_dotenv('/workspace/repos/agentic-ai/.env')\n",
    "access_token = os.getenv('HF_TOKEN')\n",
    "llama_api_key = os.getenv('LLAMA_API_KEY')\n",
    "\n",
    "# model_name, num_ctx = \"mistral-nemo\", 128000\n",
    "model_name, num_ctx = \"llama3.1\", 128000\n",
    "\n",
    "addtion_kwargs = {\"max_new_tokens\": 3000}\n",
    "system_prompt = \"You are an expert in creating marketing materials for financial firms. You take corporate documents and turn them into marketing materials.\"\n",
    "llm = Ollama(model=model_name, url=\"http://127.0.0.1:11434\", context_window=num_ctx, model_type=\"chat\", is_function_calling_model=False, \n",
    "             request_timeout=1000.0, system_prompt=system_prompt, additional_kwargs=addtion_kwargs)\n",
    "Settings.llm = llm\n",
    "llm.metadata"
   ]
  },
  {
   "cell_type": "code",
   "execution_count": null,
   "metadata": {},
   "outputs": [],
   "source": [
    "\n",
    "Settings.chunk_size = 200\n",
    "Settings.chunk_overlap = 50\n",
    "embed_model_name = \"Alibaba-NLP/gte-Qwen2-1.5B-instruct\"\n",
    "# embed_model_name = \"BAAI/bge-small-en-v1.5\"\n",
    "# embed_model_name = \"hkunlp/instructor-base\"\n",
    "print(\"loading embed model...\")\n",
    "embed_model = HuggingFaceEmbedding(model_name=embed_model_name, device=\"cuda\")\n",
    "\n",
    "Settings.embed_model = embed_model\n"
   ]
  },
  {
   "cell_type": "code",
   "execution_count": null,
   "metadata": {},
   "outputs": [],
   "source": [
    "from llamaindex_data_utils import extract_text_from_pdf\n",
    "pdf_urls = [\"/workspace/data/AIP - Capital Raise Proposal.pdf\", \"/workspace/data/Access Pre-IPOs Presentation June 2024.pdf\"] \n",
    "llamaparse_kwargs={'result_type':\"markdown\", 'split_by_page':False}\n",
    "documents = extract_text_from_pdf(pdf_urls, llama_api_key, llamaparse_kwargs=llamaparse_kwargs, save_json_path=\"/workspace/data/pdf_text.json\")"
   ]
  },
  {
   "cell_type": "code",
   "execution_count": null,
   "metadata": {},
   "outputs": [],
   "source": [
    "from rag_utils import create_llama_query_engine_rag\n",
    "persist_dir=\"/workspace/data/vector_index\"\n",
    "query_engine = create_llama_query_engine_rag(llm, embed_model, persist_dir=persist_dir, documents=documents, vector_store_kwargs={})"
   ]
  },
  {
   "cell_type": "code",
   "execution_count": null,
   "metadata": {},
   "outputs": [],
   "source": [
    "prompt = \"You have been given a documents that describe the firm's investment strategy. Highlight portions of the document that include a unique opportunity to invest in pre-IPO companies and put investors on a level playing field with VCs and big institutional investors. You need to use this information to create a marketing brochure that will attract investors to the firm's products. The brochure should be informative, engaging, and persuasive. You must disclose in fine print that there are no guarantees, and investing is risky so nothing promissory.\"\n",
    "response = query_engine.query(prompt)\n",
    "print(response.response)"
   ]
  },
  {
   "cell_type": "code",
   "execution_count": null,
   "metadata": {},
   "outputs": [],
   "source": [
    "from llama_index.core import get_response_synthesizer\n",
    "from llama_index.core import DocumentSummaryIndex\n",
    "from llama_index.core.node_parser import SentenceSplitter"
   ]
  },
  {
   "cell_type": "code",
   "execution_count": null,
   "metadata": {},
   "outputs": [],
   "source": [
    "# splitter = SentenceSplitter(chunk_size=4000, chunk_overlap=100)\n",
    "response_synthesizer = get_response_synthesizer(\n",
    "    response_mode=\"tree_summarize\", use_async=True\n",
    ")\n",
    "doc_summary_index = DocumentSummaryIndex.from_documents(\n",
    "    documents,\n",
    "    llm=llm,\n",
    "    # transformations=[splitter],\n",
    "    response_synthesizer=response_synthesizer,\n",
    "    show_progress=True,\n",
    ")"
   ]
  },
  {
   "cell_type": "code",
   "execution_count": null,
   "metadata": {},
   "outputs": [],
   "source": [
    "prompt_summary = \"Use specific details from the given documents to create a professional marketing letter that highlights portions of the context including a unique opportunity to invest in pre-IPO companies and put investors on a level playing field with VCs and big institutional investors, qualifications of the investment team, and why they should invest now. Use details from the documents, but do not make up information. Be professional and persuasive. At the end of the letter, you must disclose in fine print that there are no guarantees, and investing is risky.\"\n",
    "response = await summarizer.aget_response(prompt_summary, [doc.text for doc in documents[1:]])"
   ]
  },
  {
   "cell_type": "code",
   "execution_count": null,
   "metadata": {},
   "outputs": [],
   "source": [
    "print(response)"
   ]
  },
  {
   "cell_type": "code",
   "execution_count": null,
   "metadata": {},
   "outputs": [],
   "source": [
    "for node in response.source_nodes:\n",
    "    print(node.text)"
   ]
  },
  {
   "cell_type": "code",
   "execution_count": null,
   "metadata": {},
   "outputs": [],
   "source": []
  }
 ],
 "metadata": {
  "kernelspec": {
   "display_name": "Python 3 (ipykernel)",
   "language": "python",
   "name": "python3"
  },
  "language_info": {
   "codemirror_mode": {
    "name": "ipython",
    "version": 3
   },
   "file_extension": ".py",
   "mimetype": "text/x-python",
   "name": "python",
   "nbconvert_exporter": "python",
   "pygments_lexer": "ipython3",
   "version": "3.10.12"
  }
 },
 "nbformat": 4,
 "nbformat_minor": 2
}
