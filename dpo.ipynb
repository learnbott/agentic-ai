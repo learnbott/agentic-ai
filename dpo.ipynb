{
 "cells": [
  {
   "cell_type": "markdown",
   "metadata": {},
   "source": [
    "# Thoughts\n",
    "\n",
    "- trl (transformer reinforcement learning) package https://github.com/huggingface/trl/tree/main/examples\n",
    "- LLM as judge\n",
    "    - Can we ask the LLM a question, save the answer, and then have a closed LLM answer the same question, compare the responses, and prefer the closed LLM answer?\n",
    "\n"
   ]
  },
  {
   "cell_type": "code",
   "execution_count": null,
   "metadata": {},
   "outputs": [],
   "source": [
    "# data format for using the tlr library\n",
    "# DPO and CPO methods\n",
    "\n",
    "# dpo_dataset_dict = {\n",
    "#     \"prompt\": [\n",
    "#         \"hello\",\n",
    "#         \"how are you\",\n",
    "#         \"What is your name?\",\n",
    "#         \"What is your name?\",\n",
    "#         \"Which is the best programming language?\",\n",
    "#         \"Which is the best programming language?\",\n",
    "#         \"Which is the best programming language?\",\n",
    "#     ],\n",
    "#     \"chosen\": [\n",
    "#         \"hi nice to meet you\",\n",
    "#         \"I am fine\",\n",
    "#         \"My name is Mary\",\n",
    "#         \"My name is Mary\",\n",
    "#         \"Python\",\n",
    "#         \"Python\",\n",
    "#         \"Java\",\n",
    "#     ],\n",
    "#     \"rejected\": [\n",
    "#         \"leave me alone\",\n",
    "#         \"I am not fine\",\n",
    "#         \"Whats it to you?\",\n",
    "#         \"I dont have a name\",\n",
    "#         \"Javascript\",\n",
    "#         \"C++\",\n",
    "#         \"C++\",\n",
    "#     ],\n",
    "# }"
   ]
  },
  {
   "cell_type": "code",
   "execution_count": null,
   "metadata": {},
   "outputs": [],
   "source": [
    "import torch\n",
    "from transformers import AutoModelForCausalLM, AutoTokenizer\n",
    "\n",
    "model_name = \"gpt2\"  # You can choose any suitable model\n",
    "tokenizer = AutoTokenizer.from_pretrained(model_name)\n",
    "model = AutoModelForCausalLM.from_pretrained(model_name)"
   ]
  },
  {
   "cell_type": "code",
   "execution_count": null,
   "metadata": {},
   "outputs": [],
   "source": [
    "dataset = [\n",
    "    {\n",
    "        \"prompt\": \"What is the capital of France?\",\n",
    "        \"chosen\": \"Paris\",\n",
    "        \"rejected\": \"London\",\n",
    "    },\n",
    "    # ... more examples\n",
    "]"
   ]
  },
  {
   "cell_type": "code",
   "execution_count": null,
   "metadata": {},
   "outputs": [],
   "source": [
    "# Here we subtract the chose from the rejected, so that the leftover is the loss.\n",
    "# If negative, the chosen is more likely than the rejected.\n",
    "# If positive, the rejected is more likely than the chosen.\n",
    "# If zero, both are equally likely.\n",
    "\n",
    "def dpo_loss(model, chosen_ids, rejected_ids):\n",
    "    chosen_logits = model(chosen_ids).logits\n",
    "    rejected_logits = model(rejected_ids).logits\n",
    "\n",
    "    chosen_log_probs = torch.nn.functional.log_softmax(chosen_logits, dim=-1)\n",
    "    rejected_log_probs = torch.nn.functional.log_softmax(rejected_logits, dim=-1)\n",
    "\n",
    "    loss = -torch.mean(chosen_log_probs - rejected_log_probs)\n",
    "    return loss"
   ]
  },
  {
   "cell_type": "code",
   "execution_count": null,
   "metadata": {},
   "outputs": [],
   "source": [
    "optimizer = torch.optim.AdamW(model.parameters(), lr=1e-5)\n",
    "\n",
    "for epoch in range(5):\n",
    "    for batch in dataset:\n",
    "        chosen_ids = tokenizer(batch[\"chosen\"], return_tensors=\"pt\")[\"input_ids\"]\n",
    "        rejected_ids = tokenizer(batch[\"rejected\"], return_tensors=\"pt\")[\"input_ids\"]\n",
    "\n",
    "        optimizer.zero_grad()\n",
    "        loss = dpo_loss(model, chosen_ids, rejected_ids)\n",
    "        loss.backward()\n",
    "        optimizer.step()"
   ]
  },
  {
   "cell_type": "code",
   "execution_count": null,
   "metadata": {},
   "outputs": [],
   "source": [
    "model.save_pretrained(\"fine-tuned-model\")"
   ]
  },
  {
   "cell_type": "code",
   "execution_count": null,
   "metadata": {},
   "outputs": [],
   "source": []
  },
  {
   "cell_type": "code",
   "execution_count": null,
   "metadata": {},
   "outputs": [],
   "source": []
  },
  {
   "cell_type": "code",
   "execution_count": null,
   "metadata": {},
   "outputs": [],
   "source": []
  },
  {
   "cell_type": "code",
   "execution_count": null,
   "metadata": {},
   "outputs": [],
   "source": []
  },
  {
   "cell_type": "code",
   "execution_count": null,
   "metadata": {},
   "outputs": [],
   "source": []
  }
 ],
 "metadata": {
  "language_info": {
   "name": "python"
  }
 },
 "nbformat": 4,
 "nbformat_minor": 2
}
